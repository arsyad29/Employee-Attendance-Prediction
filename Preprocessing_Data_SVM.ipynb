{
  "nbformat": 4,
  "nbformat_minor": 0,
  "metadata": {
    "colab": {
      "provenance": []
    },
    "kernelspec": {
      "name": "python3",
      "display_name": "Python 3"
    },
    "language_info": {
      "name": "python"
    }
  },
  "cells": [
    {
      "cell_type": "code",
      "execution_count": 43,
      "metadata": {
        "id": "FwDUF62NIPtt"
      },
      "outputs": [],
      "source": [
        "import pandas as pd\n",
        "import numpy as np\n",
        "\n",
        "import datetime\n",
        "from datetime import datetime"
      ]
    },
    {
      "cell_type": "code",
      "source": [
        "# Import data\n",
        "df8 = pd.read_excel('Data_Absen 08-2022.xlsx')\n",
        "df9 = pd.read_excel('Data_Absen 09-2022.xlsx')\n",
        "df10 = pd.read_excel('Data_Absen 10-2022.xlsx')\n",
        "df11 = pd.read_excel('Data_Absen 11-2022.xlsx')\n",
        "df12 = pd.read_excel('Data_Absen 12-2022.xlsx')\n",
        "\n",
        "df1 = pd.read_excel('Data_Absen 01-2023.xlsx')\n",
        "df2 = pd.read_excel('Data_Absen 02-2023.xlsx')"
      ],
      "metadata": {
        "id": "-jrHucDYISaU"
      },
      "execution_count": 44,
      "outputs": []
    },
    {
      "cell_type": "markdown",
      "source": [
        "Pembuatan fungsi untuk preprocessing data"
      ],
      "metadata": {
        "id": "wQJlGBwh-3Zg"
      }
    },
    {
      "cell_type": "code",
      "source": [
        "# Pembuatan Function\n",
        "\n",
        "# Func capitalize columns\n",
        "def Capt(data):\n",
        "  data.columns = data.columns.str.lower()\n",
        "  data.columns = data.columns.str.capitalize()\n",
        "  return data\n",
        "\n",
        "# Func change name columns\n",
        "def Changename(data):\n",
        "  data.rename(columns={'Jam_keluar': 'Jam_pulang'}, inplace=True)\n",
        "  return data\n",
        "\n",
        "# Func change value columns\n",
        "def Changevalue(data, kolom):\n",
        "  data[kolom] = data[kolom].apply(str.lower)\n",
        "  data[kolom] = data[kolom].apply(str.capitalize)\n",
        "  return data\n",
        "\n",
        "# Func preprocessing keterangan columns\n",
        "def PreparationColumns(data):\n",
        "  data.loc[data['Keterangan'] == 'Libur setting tpp', 'Keterangan'] = 'Libur'\n",
        "  data.loc[data['Keterangan'] == 'Libur hari kemerdekaan ri', 'Keterangan'] = 'Libur'\n",
        "\n",
        "  # Potongan kehadiran di anggap hadir karena pegawai tersebut hadir namun telat\n",
        "  data.loc[data['Keterangan'] == 'Potongan kehadiran 2.5%', 'Keterangan'] = 'Hadir'\n",
        "  data.loc[data['Keterangan'] == 'Potongan kehadiran 2%', 'Keterangan'] = 'Hadir'\n",
        "  data.loc[data['Keterangan'] == 'Potong kehadiran 2%', 'Keterangan'] = 'Hadir'\n",
        "  data.loc[data['Keterangan'] == 'Potongan kehadiran 3%', 'Keterangan'] = 'Hadir'\n",
        "  data.loc[data['Keterangan'] == 'Potongan kehadiran 5%', 'Keterangan'] = 'Hadir'\n",
        "  data.loc[data['Keterangan'] == 'Potongan kehadiran 6%', 'Keterangan'] = 'Hadir'\n",
        "  data.loc[data['Keterangan'].str.contains('Surat tugas'), 'Keterangan'] = 'Hadir'\n",
        "\n",
        "  data.loc[data['Keterangan'] == 'Tidak hadir potongan 7%', 'Keterangan'] = 'Tidak Hadir'\n",
        "  data.loc[data['Keterangan'] == 'Sakit', 'Keterangan'] = 'Tidak Hadir'\n",
        "  data.loc[data['Keterangan'] == 'Cuti', 'Keterangan'] = 'Tidak Hadir'\n",
        "  data.loc[data['Keterangan'] == 'Ijin', 'Keterangan'] = 'Tidak Hadir'\n",
        "  return data\n",
        "\n",
        "# Menghapus hari libur\n",
        "def removeWeekends(data):\n",
        "  data = data[data['Keterangan'] != 'Libur']\n",
        "  data = data[data['Hari'] != 'Sabtu']\n",
        "  data = data[data['Hari'] != 'Minggu']\n",
        "  return data"
      ],
      "metadata": {
        "id": "p1bhWAlL5fy0"
      },
      "execution_count": 45,
      "outputs": []
    },
    {
      "cell_type": "code",
      "source": [
        "# Masuk bab IV\n",
        "# Data sebelum dilakukan cleansing\n",
        "# frames = [df8, df9, df10, df11, df12, df1, df2]\n",
        "# data = pd.concat(frames)\n",
        "# data['Keterangan'].value_counts()"
      ],
      "metadata": {
        "id": "gZ5BlMKRf81f"
      },
      "execution_count": 46,
      "outputs": []
    },
    {
      "cell_type": "markdown",
      "source": [
        "Mengaplikasikan fungsi yang dibuat"
      ],
      "metadata": {
        "id": "_DvxgXOf-61G"
      }
    },
    {
      "cell_type": "code",
      "source": [
        "# Apply func\n",
        "# Bulan 8\n",
        "df8 = Capt(df8)\n",
        "df8 = Changename(df8)\n",
        "df8 = Changevalue(df8, 'Keterangan')\n",
        "df8 = Changevalue(df8, 'Nama')\n",
        "df8 = Changevalue(df8, 'Hari')\n",
        "\n",
        "# Bulan 9 2022\n",
        "df9 = Capt(df9)\n",
        "df9 = Changename(df9)\n",
        "df9 = Changevalue(df9, 'Keterangan')\n",
        "df9 = Changevalue(df9, 'Nama')\n",
        "df9 = Changevalue(df9, 'Hari')\n",
        "\n",
        "# Bulan 10 2022\n",
        "df10 = Capt(df10)\n",
        "df10 = Changename(df10)\n",
        "df10 = Changevalue(df10, 'Keterangan')\n",
        "df10 = Changevalue(df10, 'Nama')\n",
        "df10 = Changevalue(df10, 'Hari')\n",
        "\n",
        "# Bulan 11 2022\n",
        "df11 = Capt(df11)\n",
        "df11 = Changename(df11)\n",
        "df11 = Changevalue(df11, 'Keterangan')\n",
        "df11 = Changevalue(df11, 'Nama')\n",
        "df11 = Changevalue(df11, 'Hari')\n",
        "\n",
        "# Bulan 12 2022\n",
        "df12 = Capt(df12)\n",
        "df12 = Changename(df12)\n",
        "df12 = Changevalue(df12, 'Keterangan')\n",
        "df12 = Changevalue(df12, 'Nama')\n",
        "df12 = Changevalue(df12, 'Hari')\n",
        "\n",
        "# Bulan 1 2023\n",
        "df1 = Capt(df1)\n",
        "df1 = Changevalue(df1, 'Keterangan')\n",
        "df1 = Changevalue(df1, 'Nama')\n",
        "df1 = Changevalue(df1, 'Hari')\n",
        "\n",
        "# Bulan 2 2023\n",
        "df2 = Capt(df2)\n",
        "df2 = Changevalue(df2, 'Keterangan')\n",
        "df2 = Changevalue(df2, 'Nama')\n",
        "df2 = Changevalue(df2, 'Hari')"
      ],
      "metadata": {
        "id": "s4SMGIT95sjH"
      },
      "execution_count": 47,
      "outputs": []
    },
    {
      "cell_type": "markdown",
      "source": [
        "Total keseluruhan dataset sebelum dibersihkan"
      ],
      "metadata": {
        "id": "rYk3L677--70"
      }
    },
    {
      "cell_type": "code",
      "source": [
        "df8.shape[0] + df9.shape[0] + df10.shape[0] + df11.shape[0] + df12.shape[0] + df1.shape[0] + df2.shape[0]"
      ],
      "metadata": {
        "colab": {
          "base_uri": "https://localhost:8080/"
        },
        "id": "aTRpWW7OWKkQ",
        "outputId": "b678112c-3ae6-4872-ae75-d9a458deff31"
      },
      "execution_count": 48,
      "outputs": [
        {
          "output_type": "execute_result",
          "data": {
            "text/plain": [
              "2756"
            ]
          },
          "metadata": {},
          "execution_count": 48
        }
      ]
    },
    {
      "cell_type": "markdown",
      "source": [
        "Penggabungan dataset dari bulan agustus 2022 - Februari 2023"
      ],
      "metadata": {
        "id": "dbSQA6oH_B5m"
      }
    },
    {
      "cell_type": "code",
      "source": [
        "# Concat Dataframe\n",
        "frames = [df8, df9, df10, df11, df12, df1, df2]\n",
        "data = pd.concat(frames)\n",
        "data = PreparationColumns(data)\n",
        "data = removeWeekends(data)\n",
        "print(data.shape)\n",
        "data.head()"
      ],
      "metadata": {
        "colab": {
          "base_uri": "https://localhost:8080/",
          "height": 224
        },
        "id": "IK1waIbJ2xYA",
        "outputId": "5d5ee0ce-88c4-44ea-cd9a-6db86cd3431d"
      },
      "execution_count": 49,
      "outputs": [
        {
          "output_type": "stream",
          "name": "stdout",
          "text": [
            "(1808, 8)\n"
          ]
        },
        {
          "output_type": "execute_result",
          "data": {
            "text/plain": [
              "             Nama    Tanggal    Hari Jam_masuk Jam_pulang  Kelalaian_masuk  \\\n",
              "0  Didik sutrisno 2022-08-01   Senin  07:18:00   16:02:00                0   \n",
              "1  Didik sutrisno 2022-08-02  Selasa  07:24:00   16:00:00                0   \n",
              "2  Didik sutrisno 2022-08-03    Rabu  07:29:00   16:00:00                0   \n",
              "3  Didik sutrisno 2022-08-04   Kamis  07:28:00   16:02:00                0   \n",
              "4  Didik sutrisno 2022-08-05   Jumat  07:35:00   11:04:00                5   \n",
              "\n",
              "   Kelalaian_pulang Keterangan  \n",
              "0                 0      Hadir  \n",
              "1                 0      Hadir  \n",
              "2                 0      Hadir  \n",
              "3                 0      Hadir  \n",
              "4                 0      Hadir  "
            ],
            "text/html": [
              "\n",
              "\n",
              "  <div id=\"df-083a29be-babd-41dd-8006-cae8a3bb4d82\">\n",
              "    <div class=\"colab-df-container\">\n",
              "      <div>\n",
              "<style scoped>\n",
              "    .dataframe tbody tr th:only-of-type {\n",
              "        vertical-align: middle;\n",
              "    }\n",
              "\n",
              "    .dataframe tbody tr th {\n",
              "        vertical-align: top;\n",
              "    }\n",
              "\n",
              "    .dataframe thead th {\n",
              "        text-align: right;\n",
              "    }\n",
              "</style>\n",
              "<table border=\"1\" class=\"dataframe\">\n",
              "  <thead>\n",
              "    <tr style=\"text-align: right;\">\n",
              "      <th></th>\n",
              "      <th>Nama</th>\n",
              "      <th>Tanggal</th>\n",
              "      <th>Hari</th>\n",
              "      <th>Jam_masuk</th>\n",
              "      <th>Jam_pulang</th>\n",
              "      <th>Kelalaian_masuk</th>\n",
              "      <th>Kelalaian_pulang</th>\n",
              "      <th>Keterangan</th>\n",
              "    </tr>\n",
              "  </thead>\n",
              "  <tbody>\n",
              "    <tr>\n",
              "      <th>0</th>\n",
              "      <td>Didik sutrisno</td>\n",
              "      <td>2022-08-01</td>\n",
              "      <td>Senin</td>\n",
              "      <td>07:18:00</td>\n",
              "      <td>16:02:00</td>\n",
              "      <td>0</td>\n",
              "      <td>0</td>\n",
              "      <td>Hadir</td>\n",
              "    </tr>\n",
              "    <tr>\n",
              "      <th>1</th>\n",
              "      <td>Didik sutrisno</td>\n",
              "      <td>2022-08-02</td>\n",
              "      <td>Selasa</td>\n",
              "      <td>07:24:00</td>\n",
              "      <td>16:00:00</td>\n",
              "      <td>0</td>\n",
              "      <td>0</td>\n",
              "      <td>Hadir</td>\n",
              "    </tr>\n",
              "    <tr>\n",
              "      <th>2</th>\n",
              "      <td>Didik sutrisno</td>\n",
              "      <td>2022-08-03</td>\n",
              "      <td>Rabu</td>\n",
              "      <td>07:29:00</td>\n",
              "      <td>16:00:00</td>\n",
              "      <td>0</td>\n",
              "      <td>0</td>\n",
              "      <td>Hadir</td>\n",
              "    </tr>\n",
              "    <tr>\n",
              "      <th>3</th>\n",
              "      <td>Didik sutrisno</td>\n",
              "      <td>2022-08-04</td>\n",
              "      <td>Kamis</td>\n",
              "      <td>07:28:00</td>\n",
              "      <td>16:02:00</td>\n",
              "      <td>0</td>\n",
              "      <td>0</td>\n",
              "      <td>Hadir</td>\n",
              "    </tr>\n",
              "    <tr>\n",
              "      <th>4</th>\n",
              "      <td>Didik sutrisno</td>\n",
              "      <td>2022-08-05</td>\n",
              "      <td>Jumat</td>\n",
              "      <td>07:35:00</td>\n",
              "      <td>11:04:00</td>\n",
              "      <td>5</td>\n",
              "      <td>0</td>\n",
              "      <td>Hadir</td>\n",
              "    </tr>\n",
              "  </tbody>\n",
              "</table>\n",
              "</div>\n",
              "      <button class=\"colab-df-convert\" onclick=\"convertToInteractive('df-083a29be-babd-41dd-8006-cae8a3bb4d82')\"\n",
              "              title=\"Convert this dataframe to an interactive table.\"\n",
              "              style=\"display:none;\">\n",
              "\n",
              "  <svg xmlns=\"http://www.w3.org/2000/svg\" height=\"24px\"viewBox=\"0 0 24 24\"\n",
              "       width=\"24px\">\n",
              "    <path d=\"M0 0h24v24H0V0z\" fill=\"none\"/>\n",
              "    <path d=\"M18.56 5.44l.94 2.06.94-2.06 2.06-.94-2.06-.94-.94-2.06-.94 2.06-2.06.94zm-11 1L8.5 8.5l.94-2.06 2.06-.94-2.06-.94L8.5 2.5l-.94 2.06-2.06.94zm10 10l.94 2.06.94-2.06 2.06-.94-2.06-.94-.94-2.06-.94 2.06-2.06.94z\"/><path d=\"M17.41 7.96l-1.37-1.37c-.4-.4-.92-.59-1.43-.59-.52 0-1.04.2-1.43.59L10.3 9.45l-7.72 7.72c-.78.78-.78 2.05 0 2.83L4 21.41c.39.39.9.59 1.41.59.51 0 1.02-.2 1.41-.59l7.78-7.78 2.81-2.81c.8-.78.8-2.07 0-2.86zM5.41 20L4 18.59l7.72-7.72 1.47 1.35L5.41 20z\"/>\n",
              "  </svg>\n",
              "      </button>\n",
              "\n",
              "\n",
              "\n",
              "    <div id=\"df-9e2281d9-a695-403f-8b54-e64892c7d520\">\n",
              "      <button class=\"colab-df-quickchart\" onclick=\"quickchart('df-9e2281d9-a695-403f-8b54-e64892c7d520')\"\n",
              "              title=\"Suggest charts.\"\n",
              "              style=\"display:none;\">\n",
              "\n",
              "<svg xmlns=\"http://www.w3.org/2000/svg\" height=\"24px\"viewBox=\"0 0 24 24\"\n",
              "     width=\"24px\">\n",
              "    <g>\n",
              "        <path d=\"M19 3H5c-1.1 0-2 .9-2 2v14c0 1.1.9 2 2 2h14c1.1 0 2-.9 2-2V5c0-1.1-.9-2-2-2zM9 17H7v-7h2v7zm4 0h-2V7h2v10zm4 0h-2v-4h2v4z\"/>\n",
              "    </g>\n",
              "</svg>\n",
              "      </button>\n",
              "    </div>\n",
              "\n",
              "<style>\n",
              "  .colab-df-quickchart {\n",
              "    background-color: #E8F0FE;\n",
              "    border: none;\n",
              "    border-radius: 50%;\n",
              "    cursor: pointer;\n",
              "    display: none;\n",
              "    fill: #1967D2;\n",
              "    height: 32px;\n",
              "    padding: 0 0 0 0;\n",
              "    width: 32px;\n",
              "  }\n",
              "\n",
              "  .colab-df-quickchart:hover {\n",
              "    background-color: #E2EBFA;\n",
              "    box-shadow: 0px 1px 2px rgba(60, 64, 67, 0.3), 0px 1px 3px 1px rgba(60, 64, 67, 0.15);\n",
              "    fill: #174EA6;\n",
              "  }\n",
              "\n",
              "  [theme=dark] .colab-df-quickchart {\n",
              "    background-color: #3B4455;\n",
              "    fill: #D2E3FC;\n",
              "  }\n",
              "\n",
              "  [theme=dark] .colab-df-quickchart:hover {\n",
              "    background-color: #434B5C;\n",
              "    box-shadow: 0px 1px 3px 1px rgba(0, 0, 0, 0.15);\n",
              "    filter: drop-shadow(0px 1px 2px rgba(0, 0, 0, 0.3));\n",
              "    fill: #FFFFFF;\n",
              "  }\n",
              "</style>\n",
              "\n",
              "    <script>\n",
              "      async function quickchart(key) {\n",
              "        const containerElement = document.querySelector('#' + key);\n",
              "        const charts = await google.colab.kernel.invokeFunction(\n",
              "            'suggestCharts', [key], {});\n",
              "      }\n",
              "    </script>\n",
              "\n",
              "      <script>\n",
              "\n",
              "function displayQuickchartButton(domScope) {\n",
              "  let quickchartButtonEl =\n",
              "    domScope.querySelector('#df-9e2281d9-a695-403f-8b54-e64892c7d520 button.colab-df-quickchart');\n",
              "  quickchartButtonEl.style.display =\n",
              "    google.colab.kernel.accessAllowed ? 'block' : 'none';\n",
              "}\n",
              "\n",
              "        displayQuickchartButton(document);\n",
              "      </script>\n",
              "      <style>\n",
              "    .colab-df-container {\n",
              "      display:flex;\n",
              "      flex-wrap:wrap;\n",
              "      gap: 12px;\n",
              "    }\n",
              "\n",
              "    .colab-df-convert {\n",
              "      background-color: #E8F0FE;\n",
              "      border: none;\n",
              "      border-radius: 50%;\n",
              "      cursor: pointer;\n",
              "      display: none;\n",
              "      fill: #1967D2;\n",
              "      height: 32px;\n",
              "      padding: 0 0 0 0;\n",
              "      width: 32px;\n",
              "    }\n",
              "\n",
              "    .colab-df-convert:hover {\n",
              "      background-color: #E2EBFA;\n",
              "      box-shadow: 0px 1px 2px rgba(60, 64, 67, 0.3), 0px 1px 3px 1px rgba(60, 64, 67, 0.15);\n",
              "      fill: #174EA6;\n",
              "    }\n",
              "\n",
              "    [theme=dark] .colab-df-convert {\n",
              "      background-color: #3B4455;\n",
              "      fill: #D2E3FC;\n",
              "    }\n",
              "\n",
              "    [theme=dark] .colab-df-convert:hover {\n",
              "      background-color: #434B5C;\n",
              "      box-shadow: 0px 1px 3px 1px rgba(0, 0, 0, 0.15);\n",
              "      filter: drop-shadow(0px 1px 2px rgba(0, 0, 0, 0.3));\n",
              "      fill: #FFFFFF;\n",
              "    }\n",
              "  </style>\n",
              "\n",
              "      <script>\n",
              "        const buttonEl =\n",
              "          document.querySelector('#df-083a29be-babd-41dd-8006-cae8a3bb4d82 button.colab-df-convert');\n",
              "        buttonEl.style.display =\n",
              "          google.colab.kernel.accessAllowed ? 'block' : 'none';\n",
              "\n",
              "        async function convertToInteractive(key) {\n",
              "          const element = document.querySelector('#df-083a29be-babd-41dd-8006-cae8a3bb4d82');\n",
              "          const dataTable =\n",
              "            await google.colab.kernel.invokeFunction('convertToInteractive',\n",
              "                                                     [key], {});\n",
              "          if (!dataTable) return;\n",
              "\n",
              "          const docLinkHtml = 'Like what you see? Visit the ' +\n",
              "            '<a target=\"_blank\" href=https://colab.research.google.com/notebooks/data_table.ipynb>data table notebook</a>'\n",
              "            + ' to learn more about interactive tables.';\n",
              "          element.innerHTML = '';\n",
              "          dataTable['output_type'] = 'display_data';\n",
              "          await google.colab.output.renderOutput(dataTable, element);\n",
              "          const docLink = document.createElement('div');\n",
              "          docLink.innerHTML = docLinkHtml;\n",
              "          element.appendChild(docLink);\n",
              "        }\n",
              "      </script>\n",
              "    </div>\n",
              "  </div>\n"
            ]
          },
          "metadata": {},
          "execution_count": 49
        }
      ]
    },
    {
      "cell_type": "markdown",
      "source": [
        "<H1>VISUALISASI DATA"
      ],
      "metadata": {
        "id": "78Eygp9aI60g"
      }
    },
    {
      "cell_type": "code",
      "source": [
        "data.Keterangan.value_counts()\n",
        "\n",
        "# Export ke excel\n",
        "# data.to_excel('DataAfterPreparation.xlsx', index=False)"
      ],
      "metadata": {
        "id": "sGbkcmaNaC0k",
        "colab": {
          "base_uri": "https://localhost:8080/"
        },
        "outputId": "33bac6f5-724a-4730-d649-ec6fe00f0d16"
      },
      "execution_count": 50,
      "outputs": [
        {
          "output_type": "execute_result",
          "data": {
            "text/plain": [
              "Hadir          1705\n",
              "Tidak Hadir     103\n",
              "Name: Keterangan, dtype: int64"
            ]
          },
          "metadata": {},
          "execution_count": 50
        }
      ]
    },
    {
      "cell_type": "markdown",
      "source": [
        "VISUALISASI DATA SAKIT"
      ],
      "metadata": {
        "id": "C7KCygu_5kTt"
      }
    },
    {
      "cell_type": "code",
      "source": [
        "# Concat Dataframe\n",
        "frames = [df8, df9, df10, df11, df12, df1, df2]\n",
        "data_vis = pd.concat(frames)\n",
        "data_vis = removeWeekends(data_vis)"
      ],
      "metadata": {
        "colab": {
          "base_uri": "https://localhost:8080/"
        },
        "id": "XviBvHHHJEnY",
        "outputId": "5bf8627d-7207-4f1c-b340-a36701e2a7ea"
      },
      "execution_count": 51,
      "outputs": [
        {
          "output_type": "stream",
          "name": "stdout",
          "text": [
            "(1963, 8)\n"
          ]
        }
      ]
    },
    {
      "cell_type": "markdown",
      "source": [
        "Pengambilan data sakit berdasarkan bulan"
      ],
      "metadata": {
        "id": "f7wu9fme_Ijf"
      }
    },
    {
      "cell_type": "code",
      "source": [
        "data_vis['bulan'] = data_vis['Tanggal'].dt.month\n",
        "data_vis['month_year'] = data_vis['Tanggal'].dt.strftime('%m-%Y')"
      ],
      "metadata": {
        "id": "z0v07-DLzj3E"
      },
      "execution_count": 52,
      "outputs": []
    },
    {
      "cell_type": "code",
      "source": [
        "data_sakit = data_vis[data_vis['Keterangan']=='Sakit']"
      ],
      "metadata": {
        "id": "N4AQJqrjzeZb"
      },
      "execution_count": 53,
      "outputs": []
    },
    {
      "cell_type": "code",
      "source": [
        "import matplotlib.pyplot as plt\n",
        "import seaborn as sns"
      ],
      "metadata": {
        "id": "E5NHlyL6zqvu"
      },
      "execution_count": 54,
      "outputs": []
    },
    {
      "cell_type": "code",
      "source": [
        "splot = data_sakit.groupby(['Keterangan'])['month_year'].value_counts().sort_index().unstack().plot.bar()\n",
        "sns.despine(top=True, right=True)\n",
        "plt.tick_params(labelrotation=0)\n",
        "plt.ylabel('Jumlah Pegawai')\n",
        "plt.xlabel('Keterangan Sakit')\n",
        "for p in splot.patches:\n",
        "    splot.annotate(format(p.get_height(), '.0f'),\n",
        "                   (p.get_x() + p.get_width() / 2., p.get_height()),\n",
        "                   ha = 'center', va = 'center',\n",
        "                   xytext = (0, 9),\n",
        "                   textcoords = 'offset points')\n",
        "plt.show()"
      ],
      "metadata": {
        "id": "50i8gq6x0DmS",
        "colab": {
          "base_uri": "https://localhost:8080/",
          "height": 451
        },
        "outputId": "1a9bbed3-07e1-45f1-8981-d68dd5e48413"
      },
      "execution_count": 55,
      "outputs": [
        {
          "output_type": "display_data",
          "data": {
            "text/plain": [
              "<Figure size 640x480 with 1 Axes>"
            ],
            "image/png": "[encoded data removed]"
          },
          "metadata": {}
        }
      ]
    },
    {
      "cell_type": "markdown",
      "source": [
        "VISUALISASI DATA JUMLAH KELALAIAN PEGAWAI BERDASARKAN BULAN"
      ],
      "metadata": {
        "id": "O-D_NdYJ5l9d"
      }
    },
    {
      "cell_type": "code",
      "source": [
        "splot = data_vis[data_vis['Keterangan'].str.contains('Potongan kehadiran')==True]['month_year'].value_counts().sort_index(ascending=False).plot.bar()\n",
        "sns.despine(top=True, right=True)\n",
        "plt.tick_params(labelrotation=0)\n",
        "plt.title('Jumlah Kelalaian Pegawai Berdasarkan Bulan')\n",
        "plt.ylabel('Jumlah Pegawai')\n",
        "plt.xlabel('Bulan')\n",
        "for p in splot.patches:\n",
        "    splot.annotate(format(p.get_height(), '.0f'),\n",
        "                   (p.get_x() + p.get_width() / 2., p.get_height()),\n",
        "                   ha = 'center', va = 'center',\n",
        "                   xytext = (0, 9),\n",
        "                   textcoords = 'offset points')\n",
        "plt.show()"
      ],
      "metadata": {
        "colab": {
          "base_uri": "https://localhost:8080/",
          "height": 472
        },
        "id": "StQIjHgx5nDY",
        "outputId": "736fc324-5462-42e5-cd1b-900718271d5b"
      },
      "execution_count": 56,
      "outputs": [
        {
          "output_type": "display_data",
          "data": {
            "text/plain": [
              "<Figure size 640x480 with 1 Axes>"
            ],
            "image/png": "[encoded data removed]"
          },
          "metadata": {}
        }
      ]
    }
  ]
}